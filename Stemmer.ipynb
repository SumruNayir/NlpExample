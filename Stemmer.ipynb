{
  "nbformat": 4,
  "nbformat_minor": 0,
  "metadata": {
    "colab": {
      "name": "TrStemmer.ipynb",
      "provenance": [],
      "collapsed_sections": []
    },
    "kernelspec": {
      "name": "python3",
      "display_name": "Python 3",
      "language": "python"
    }
  },
  "cells": [
    {
      "cell_type": "code",
      "metadata": {
        "colab": {
          "base_uri": "https://localhost:8080/"
        },
        "id": "X0wK24ObaMAW",
        "outputId": "a6fae52d-e093-4b9c-99bb-bcdfff69dc2e"
      },
      "source": [
        "pip install TurkishStemmer"
      ],
      "execution_count": 1,
      "outputs": [
        {
          "output_type": "stream",
          "name": "stdout",
          "text": [
            "Collecting TurkishStemmer\n  Downloading TurkishStemmer-1.3-py3-none-any.whl (20 kB)\nInstalling collected packages: TurkishStemmer\nSuccessfully installed TurkishStemmer-1.3\nNote: you may need to restart the kernel to use updated packages.\n"
          ]
        }
      ]
    },
    {
      "cell_type": "code",
      "metadata": {
        "id": "p-D7JevvXQbQ"
      },
      "source": [
        "import nltk\r\n",
        "from snowballstemmer import EnglishStemmer\r\n",
        "from TurkishStemmer import TurkishStemmer\r\n",
        "import pandas as pd\r\n",
        "import numpy as np"
      ],
      "execution_count": 2,
      "outputs": []
    },
    {
      "cell_type": "code",
      "metadata": {
        "colab": {
          "base_uri": "https://localhost:8080/"
        },
        "id": "uZvmFE0fYxga",
        "outputId": "22e87bd3-df05-4180-b692-58ddc03ecf12"
      },
      "source": [
        "es = EnglishStemmer()\n",
        "tr = TurkishStemmer()\n",
        "words = [\"okul \", \"okullar\", \"okulları\", \"okuldakiler\"]\n",
        "for i in words:\n",
        "  print(i, \":\" , tr.stem(i))\n",
        "\n",
        "word2 = [\"program\",\"programs\",\"programmer\"]\n",
        "for y in word2:\n",
        "  print(y, \":\", es.stemWord(y))"
      ],
      "execution_count": 4,
      "outputs": [
        {
          "output_type": "stream",
          "name": "stdout",
          "text": [
            "okul  : okul \nokullar : okul\nokulları : okul\nokuldakiler : okul\nokullarınız : okul\nprogram : program\nprograms : program\nprogrammer : programm\n"
          ]
        }
      ]
    }
  ]
}